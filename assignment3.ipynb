{
 "cells": [
  {
   "cell_type": "code",
   "execution_count": 1,
   "id": "a88141de-49da-47c4-9a8a-1a51e9bccc0e",
   "metadata": {},
   "outputs": [],
   "source": [
    "import pandas as pd\n",
    "import numpy as np\n",
    "import matplotlib.pyplot as plt\n",
    "import seaborn as sns\n",
    "import re\n",
    "from nltk.util import ngrams\n",
    "from sklearn.tree import DecisionTreeClassifier\n",
    "from sklearn import preprocessing\n",
    "from sklearn.metrics import classification_report\n",
    "from sklearn.model_selection import train_test_split\n",
    "from sklearn.metrics.pairwise import cosine_similarity\n",
    "import statistics"
   ]
  },
  {
   "cell_type": "code",
   "execution_count": 2,
   "id": "7b06ac0c-f96c-4a26-8be1-5b047aea05f7",
   "metadata": {},
   "outputs": [
    {
     "name": "stdout",
     "output_type": "stream",
     "text": [
      "   pid  system_calls\n",
      "0  167            90\n",
      "1  167           125\n",
      "\n",
      "   pid  system_calls\n",
      "0  167            90\n",
      "1  167           125\n"
     ]
    }
   ],
   "source": [
    "df_intrusion = pd.read_csv(\"https://raw.githubusercontent.com/unt-iialab/info5502-spring2022/main/finalexam/q4/inetd-intrusion.int\", sep = \" \", header = None)\n",
    "df_intrusion_normal = pd.read_csv(\"https://raw.githubusercontent.com/unt-iialab/info5502-spring2022/main/finalexam/q4/inetd-normal.int\", sep = \" \", header = None)\n",
    "df_intrusion.columns = ['pid', 'system_calls']\n",
    "df_intrusion_normal.columns = ['pid', 'system_calls']\n",
    "print(df_intrusion.head(2))\n",
    "print()\n",
    "print(df_intrusion_normal.head(2))"
   ]
  },
  {
   "cell_type": "code",
   "execution_count": 6,
   "id": "188e6aac-0be5-44d0-95b3-00065d6c7e2a",
   "metadata": {},
   "outputs": [
    {
     "data": {
      "text/plain": [
       "'90 125 125 106 5 90 6 5 3 90 90 90 90 6 125 91 125 125 125 136 49 24 47 50 45 45 5 106 106 106 106 106 2 1'"
      ]
     },
     "execution_count": 6,
     "metadata": {},
     "output_type": "execute_result"
    }
   ],
   "source": [
    "intrusion_dict = {}\n",
    "n_dict = {}\n",
    "for pid in list(set(df_intrusion['pid'].values)):\n",
    "    intrusion_dict[pid] = \" \".join(str(value) for value in list(df_intrusion[df_intrusion['pid'] == pid]['system_calls'].values))\n",
    "\n",
    "for pid in list(set(df_intrusion_normal['pid'].values)):\n",
    "    n_dict[pid] = \" \".join(str(value) for value in list(df_intrusion_normal[df_intrusion_normal['pid'] == pid]['system_calls'].values))\n",
    "\n",
    "intrusion_dict[167]"
   ]
  },
  {
   "cell_type": "code",
   "execution_count": 8,
   "id": "c7ed03e9-4272-4fbb-a97e-e3975ba04cb3",
   "metadata": {},
   "outputs": [
    {
     "name": "stdout",
     "output_type": "stream",
     "text": [
      "Length of the instruction list : 7627\n",
      "Length of normal list : 469\n"
     ]
    }
   ],
   "source": [
    "intrusion_list = []\n",
    "n_list = []\n",
    "\n",
    "for key in intrusion_dict.keys():\n",
    "    a = intrusion_dict[key]\n",
    "    tokens = [token for token in a.split(\" \") if token != \"\"]\n",
    "    \n",
    "    for ele in list(ngrams(tokens, 25)):\n",
    "        intrusion_list.append(ele)\n",
    "        \n",
    "for key in n_dict.keys():\n",
    "    a = n_dict[key]\n",
    "    tokens = [token for token in a.split(\" \") if token != \"\"]\n",
    "    \n",
    "    for ele in list(ngrams(tokens, 25)):\n",
    "        n_list.append(ele) \n",
    "\n",
    "print(f\"Length of the instruction list : {len(intrusion_list)}\")\n",
    "print(f\"Length of normal list : {len(n_list)}\")"
   ]
  },
  {
   "cell_type": "code",
   "execution_count": 11,
   "id": "6636176f-b940-4e33-b8f7-e6e0e1505389",
   "metadata": {},
   "outputs": [
    {
     "name": "stdout",
     "output_type": "stream",
     "text": [
      "shape of the intrusion dataframe : (7627, 26)\n",
      "shape of the normal dataframe : (469, 26)\n"
     ]
    }
   ],
   "source": [
    "intrusion_df = pd.DataFrame(intrusion_list)\n",
    "df_normal = pd.DataFrame(n_list)\n",
    "intrusion_df['class'] = 1\n",
    "df_normal['class'] = 0\n",
    "print(f\"shape of the intrusion dataframe : {intrusion_df.shape}\")\n",
    "print(f\"shape of the normal dataframe : {df_normal.shape}\")"
   ]
  },
  {
   "cell_type": "code",
   "execution_count": 13,
   "id": "a58b8c5e-3e2a-4635-8768-03844edf7eb8",
   "metadata": {},
   "outputs": [
    {
     "name": "stdout",
     "output_type": "stream",
     "text": [
      "(8096, 26)\n"
     ]
    }
   ],
   "source": [
    "df_final = pd.DataFrame()\n",
    "df_final = df_final.append(intrusion_df)\n",
    "df_final = df_final.append(df_normal)\n",
    "print(df_final.shape)"
   ]
  },
  {
   "cell_type": "code",
   "execution_count": 14,
   "id": "4d760551-819b-43e2-984b-aecf44dce24b",
   "metadata": {},
   "outputs": [
    {
     "data": {
      "text/plain": [
       "(333, 26)"
      ]
     },
     "execution_count": 14,
     "metadata": {},
     "output_type": "execute_result"
    }
   ],
   "source": [
    "df_final = df_final.drop_duplicates(subset = df_final.columns[:-1], keep = 'last')\n",
    "df_final.shape"
   ]
  },
  {
   "cell_type": "code",
   "execution_count": 16,
   "id": "8e0e4320-ce94-4b7e-88c8-c0ebb1666075",
   "metadata": {},
   "outputs": [
    {
     "name": "stdout",
     "output_type": "stream",
     "text": [
      "              precision    recall  f1-score   support\n",
      "\n",
      "           0       1.00      0.94      0.97        32\n",
      "           1       0.95      1.00      0.97        35\n",
      "\n",
      "    accuracy                           0.97        67\n",
      "   macro avg       0.97      0.97      0.97        67\n",
      "weighted avg       0.97      0.97      0.97        67\n",
      "\n"
     ]
    }
   ],
   "source": [
    "\n",
    "x = df_final.drop(\"class\", axis = 1)\n",
    "y = df_final['class']\n",
    "x_train, x_valid, y_train, y_valid = train_test_split(x, y, test_size = 0.2, random_state = 123)\n",
    "model = DecisionTreeClassifier(max_depth = 10)\n",
    "model.fit(x_train, y_train)\n",
    "pred = dtclassifier.predict(x_valid)\n",
    "print(classification_report(y_valid,pred))"
   ]
  },
  {
   "cell_type": "code",
   "execution_count": 18,
   "id": "42145c03-0274-404d-b8ec-dec55be373e5",
   "metadata": {},
   "outputs": [
    {
     "name": "stdout",
     "output_type": "stream",
     "text": [
      "5 0.8028979470447\n",
      "\n",
      "10 0.7596806832639615\n",
      "\n",
      "15 0.7211310056624977\n",
      "\n",
      "20 0.7399434249818397\n",
      "\n",
      "25 0.7120446034439848\n",
      "\n"
     ]
    }
   ],
   "source": [
    "cosine_similar_ngram = {}\n",
    "\n",
    "for ngram in range(5, 26, 5):\n",
    "\n",
    "    df_intrusion = pd.read_csv(\"https://raw.githubusercontent.com/unt-iialab/info5502-spring2022/main/finalexam/q4/inetd-intrusion.int\", sep = \" \", header = None)\n",
    "    df_normal = pd.read_csv(\"https://raw.githubusercontent.com/unt-iialab/info5502-spring2022/main/finalexam/q4/inetd-normal.int\", sep = \" \", header = None)\n",
    "\n",
    "    df_intrusion.columns = ['pid', 'system_calls']\n",
    "    df_normal.columns = ['pid', 'system_calls']\n",
    "\n",
    "    intrusion_dict = {}\n",
    "    normal_dict = {}\n",
    "    \n",
    "    for pid in list(set(df_intrusion['pid'].values)):\n",
    "        intrusion_dict[pid] = \" \".join(str(value) for value in list(df_intrusion[df_intrusion['pid'] == pid]['system_calls'].values))\n",
    "\n",
    "    for pid in list(set(df_normal['pid'].values)):\n",
    "        normal_dict[pid] = \" \".join(str(value) for value in list(df_normal[df_normal['pid'] == pid]['system_calls'].values))\n",
    "\n",
    "    intrusion_list = []\n",
    "    normal_list = []\n",
    "    for key in intrusion_dict.keys():\n",
    "        s = intrusion_dict[key]\n",
    "        tokens = [token for token in s.split(\" \") if token != \"\"]\n",
    "\n",
    "        for ele in list(ngrams(tokens, ngram)):\n",
    "            intrusion_list.append(ele)\n",
    "\n",
    "    for key in normal_dict.keys():\n",
    "        s = normal_dict[key]\n",
    "        tokens = [token for token in s.split(\" \") if token != \"\"]\n",
    "\n",
    "        for ele in list(ngrams(tokens, ngram)):\n",
    "            normal_list.append(ele)\n",
    "\n",
    "    intrusion_df = pd.DataFrame(intrusion_list)\n",
    "    normal_df = pd.DataFrame(normal_list)\n",
    "\n",
    "    intrusion_df['class'] = 1\n",
    "    normal_df['class'] = 0\n",
    "\n",
    "    combined_df = pd.DataFrame()\n",
    "\n",
    "    combined_df = combined_df.append(intrusion_df)\n",
    "    combined_df = combined_df.append(normal_df)\n",
    "\n",
    "\n",
    "    combined_df = combined_df.drop_duplicates(subset = combined_df.columns[:-1], keep = 'last')\n",
    "    \n",
    "\n",
    "    from sklearn.metrics.pairwise import cosine_similarity\n",
    "    import statistics\n",
    "\n",
    "    similarities_list = []\n",
    "    for i in range(0, 100):\n",
    "        list1 = list(combined_df[combined_df['class'] == 0].sample(n = 1).iloc[0, :].values)\n",
    "        list2 = list(combined_df[combined_df['class'] == 1].sample(n = 1).iloc[0, :].values)\n",
    "        try:\n",
    "            similarities_list.append(cosine_similarity([list1], [list2]))\n",
    "        except Exception as e:\n",
    "            print(e)\n",
    "            print(list1, list2)\n",
    "\n",
    "    print(ngram, statistics.median(similarities_list)[0][0])\n",
    "    print()\n",
    "    cosine_similar_ngram[ngram] = statistics.median(similarities_list)[0][0]"
   ]
  },
  {
   "cell_type": "code",
   "execution_count": 19,
   "id": "5b7fcc53-0af4-4013-b1d1-7c02429ed6a3",
   "metadata": {},
   "outputs": [
    {
     "data": {
      "image/png": "[encoded data removed]",
      "text/plain": [
       "<Figure size 1008x504 with 1 Axes>"
      ]
     },
     "metadata": {
      "needs_background": "light"
     },
     "output_type": "display_data"
    }
   ],
   "source": [
    "cosine_similar_ngram_df = pd.DataFrame({\"Ngram\":list(cosine_similar_ngram.keys()), \"Similarity_scores\": list(cosine_similar_ngram.values())})\n",
    "plt.rcParams['figure.figsize'] = [14, 7]\n",
    "sns.lineplot(x = \"Ngram\", y = \"Similarity_scores\", data = cosine_similar_ngram_df)\n",
    "plt.title(\"Cosine similarity scores\")\n",
    "plt.xlabel(\"Ngram\")\n",
    "plt.ylabel(\"Cosine similarity scores\")\n",
    "plt.show()"
   ]
  },
  {
   "cell_type": "code",
   "execution_count": null,
   "id": "1ea831f4-9f08-4231-8a77-5f8bde825e28",
   "metadata": {},
   "outputs": [],
   "source": []
  }
 ],
 "metadata": {
  "kernelspec": {
   "display_name": "Python 3 (ipykernel)",
   "language": "python",
   "name": "python3"
  },
  "language_info": {
   "codemirror_mode": {
    "name": "ipython",
    "version": 3
   },
   "file_extension": ".py",
   "mimetype": "text/x-python",
   "name": "python",
   "nbconvert_exporter": "python",
   "pygments_lexer": "ipython3",
   "version": "3.9.7"
  }
 },
 "nbformat": 4,
 "nbformat_minor": 5
}
