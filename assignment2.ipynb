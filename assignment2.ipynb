{
 "cells": [
  {
   "cell_type": "code",
   "execution_count": 4,
   "id": "a46187a2-f8d3-4028-925c-2492885aa178",
   "metadata": {},
   "outputs": [
    {
     "name": "stdout",
     "output_type": "stream",
     "text": [
      "Accuracy for category 0 = 0.8139303482587065\n",
      "Recall for category 0 = 0.585820895522388\n",
      "Precision for category 0 = 0.6738197424892703\n",
      "F1 Score for category 0 = 0.626746506986028\n",
      "\n",
      "\n",
      "Accuracy for category 1 = 0.7850746268656716\n",
      "Recall for category 1 = 0.606425702811245\n",
      "Precision for category 1 = 0.5613382899628253\n",
      "F1 Score for category 1 = 0.583011583011583\n",
      "\n",
      "\n",
      "Accuracy for category 2 = 0.8199004975124378\n",
      "Recall for category 2 = 0.6490384615384616\n",
      "Precision for category 2 = 0.5555555555555556\n",
      "F1 Score for category 2 = 0.598669623059867\n",
      "\n",
      "\n",
      "Accuracy for category 3 = 0.8805970149253731\n",
      "Recall for category 3 = 0.5645161290322581\n",
      "Precision for category 3 = 0.5147058823529411\n",
      "F1 Score for category 3 = 0.5384615384615384\n",
      "\n",
      "\n",
      "Accuracy for category 4 = 0.9213930348258706\n",
      "Recall for category 4 = 0.5333333333333333\n",
      "Precision for category 4 = 0.6511627906976745\n",
      "F1 Score for category 4 = 0.5863874345549738\n",
      "\n",
      "\n",
      "Accuracy for category 5 = 0.9432835820895522\n",
      "Recall for category 5 = 0.3137254901960784\n",
      "Precision for category 5 = 0.42105263157894735\n",
      "F1 Score for category 5 = 0.3595505617977528\n",
      "\n",
      "\n"
     ]
    }
   ],
   "source": [
    "\n",
    "cm= [[157,46,25,22,15,3],\n",
    "     [28,151,45,18,1,6],\n",
    "     [11,38,135,14,3,7],\n",
    "     [11,15,18,70,6,4],\n",
    "     [14,12,14,7,56,2],\n",
    "     [12,7,6,5,5,16]]\n",
    "     \n",
    "total = sum(sum(cm,[])) \n",
    "\n",
    "for i in range(0,6):\n",
    "  TP= cm[i][i]\n",
    "  FP= cm[0][i]+ cm[1][i]+ cm[2][i]+  cm[3][i]+cm[4][i]+ cm[5][i] -  cm[i][i]\n",
    "  FN=cm[i][0]+ cm[i][1]+ cm[i][2]+  cm[i][3]+cm[i][4]+ cm[i][5] -  cm[i][i]\n",
    "  TN= total-TP-FN-FP\n",
    "\n",
    "  Accuracy= (TP + TN) / (TP+ TN+ FP+ FN)\n",
    "  Recall= (TP) / (TP+FN)\n",
    "  Precision= (TP) / (TP+FP)\n",
    "  f1Score = (2*Precision*Recall) / (Precision + Recall)\n",
    "\n",
    "  print(f\"Accuracy for category {i} = {Accuracy}\")\n",
    "  print(f\"Recall for category {i} = {Recall}\")\n",
    "  print(f\"Precision for category {i} = {Precision}\")\n",
    "  print(f\"F1 Score for category {i} = {f1Score}\")\n",
    "  print(\"\\n\")"
   ]
  },
  {
   "cell_type": "code",
   "execution_count": null,
   "id": "4ed79946-ca65-4747-8581-7089911937dd",
   "metadata": {},
   "outputs": [],
   "source": []
  }
 ],
 "metadata": {
  "kernelspec": {
   "display_name": "Python 3 (ipykernel)",
   "language": "python",
   "name": "python3"
  },
  "language_info": {
   "codemirror_mode": {
    "name": "ipython",
    "version": 3
   },
   "file_extension": ".py",
   "mimetype": "text/x-python",
   "name": "python",
   "nbconvert_exporter": "python",
   "pygments_lexer": "ipython3",
   "version": "3.9.7"
  }
 },
 "nbformat": 4,
 "nbformat_minor": 5
}
